{
  "cells": [
    {
      "cell_type": "markdown",
      "metadata": {
        "id": "view-in-github",
        "colab_type": "text"
      },
      "source": [
        "<a href=\"https://colab.research.google.com/github/lexandara/DZ4/blob/main/%D0%94%D0%97_1_%D0%BF%D1%80%D0%BE%D0%B1%D0%B0_1.ipynb\" target=\"_parent\"><img src=\"https://colab.research.google.com/assets/colab-badge.svg\" alt=\"Open In Colab\"/></a>"
      ]
    },
    {
      "cell_type": "code",
      "execution_count": null,
      "metadata": {
        "id": "OMv47nDfBD3v"
      },
      "outputs": [],
      "source": [
        "import pandas as pd"
      ]
    },
    {
      "cell_type": "code",
      "execution_count": null,
      "metadata": {
        "scrolled": false,
        "id": "8BquhhZVBD3w",
        "outputId": "7a7f968b-e329-4569-ff4e-7619a7043d6e"
      },
      "outputs": [
        {
          "name": "stdout",
          "output_type": "stream",
          "text": [
            "Requirement already satisfied: wget in c:\\anacondaz\\lib\\site-packages (3.2)\n",
            "100% [..............................................................................] 50735 / 50735"
          ]
        },
        {
          "data": {
            "text/plain": [
              "'end_seminar (2).xlsx'"
            ]
          },
          "execution_count": 3,
          "metadata": {},
          "output_type": "execute_result"
        }
      ],
      "source": [
        "!pip install wget\n",
        "import wget \n",
        "wget.download('https://dropbox.com/s/f4rm8sjc3v99p0m/_end_seminar.xlsx?dl=1', 'end_seminar.xlsx')"
      ]
    },
    {
      "cell_type": "code",
      "execution_count": null,
      "metadata": {
        "id": "50_GwTOEBD3y"
      },
      "outputs": [],
      "source": [
        "df = pd.read_excel('end_seminar.xlsx')"
      ]
    },
    {
      "cell_type": "markdown",
      "metadata": {
        "id": "S3Oa8qsiBD3z"
      },
      "source": [
        "### УБИРАЕМ ПУСТЫЕ ЗНАЧЕНИЯ"
      ]
    },
    {
      "cell_type": "code",
      "execution_count": null,
      "metadata": {
        "scrolled": false,
        "id": "VJv8BXHDBD31",
        "outputId": "513bb4ee-a261-4e4b-ae28-20a9dbb9234a"
      },
      "outputs": [
        {
          "data": {
            "text/plain": [
              "timestamp          0\n",
              "id                 0\n",
              "rating             0\n",
              "18_group         138\n",
              "is_mi            343\n",
              "fall_1             0\n",
              "fall_2             0\n",
              "fall_3             0\n",
              "spring_1           0\n",
              "spring_2           0\n",
              "spring_3           0\n",
              "is_first_time      2\n",
              "percentile         0\n",
              "17_group         223\n",
              "blended          223\n",
              "is_ml_student    304\n",
              "dtype: int64"
            ]
          },
          "execution_count": 37,
          "metadata": {},
          "output_type": "execute_result"
        }
      ],
      "source": [
        "df.isna().sum()"
      ]
    },
    {
      "cell_type": "code",
      "execution_count": null,
      "metadata": {
        "scrolled": false,
        "id": "AGzcaIJ2BD32",
        "outputId": "a63a5059-1ae1-4398-faf6-479c1d57c833"
      },
      "outputs": [
        {
          "data": {
            "text/plain": [
              "timestamp        datetime64[ns]\n",
              "id                       object\n",
              "rating                    int64\n",
              "18_group                float64\n",
              "is_mi                   float64\n",
              "fall_1                   object\n",
              "fall_2                   object\n",
              "fall_3                   object\n",
              "spring_1                 object\n",
              "spring_2                 object\n",
              "spring_3                 object\n",
              "is_first_time            object\n",
              "percentile              float64\n",
              "17_group                float64\n",
              "blended                  object\n",
              "is_ml_student           float64\n",
              "dtype: object"
            ]
          },
          "execution_count": 46,
          "metadata": {},
          "output_type": "execute_result"
        }
      ],
      "source": [
        "df.dtypes"
      ]
    },
    {
      "cell_type": "code",
      "execution_count": null,
      "metadata": {
        "id": "qUic8bZZBD33",
        "outputId": "0b6a5b0a-9ba0-46f8-9723-5f88c32407c8"
      },
      "outputs": [
        {
          "data": {
            "text/html": [
              "<div>\n",
              "<style scoped>\n",
              "    .dataframe tbody tr th:only-of-type {\n",
              "        vertical-align: middle;\n",
              "    }\n",
              "\n",
              "    .dataframe tbody tr th {\n",
              "        vertical-align: top;\n",
              "    }\n",
              "\n",
              "    .dataframe thead th {\n",
              "        text-align: right;\n",
              "    }\n",
              "</style>\n",
              "<table border=\"1\" class=\"dataframe\">\n",
              "  <thead>\n",
              "    <tr style=\"text-align: right;\">\n",
              "      <th></th>\n",
              "      <th>timestamp</th>\n",
              "      <th>id</th>\n",
              "      <th>rating</th>\n",
              "      <th>18_group</th>\n",
              "      <th>is_mi</th>\n",
              "      <th>fall_1</th>\n",
              "      <th>fall_2</th>\n",
              "      <th>fall_3</th>\n",
              "      <th>spring_1</th>\n",
              "      <th>spring_2</th>\n",
              "      <th>spring_3</th>\n",
              "      <th>is_first_time</th>\n",
              "      <th>percentile</th>\n",
              "      <th>17_group</th>\n",
              "      <th>blended</th>\n",
              "      <th>is_ml_student</th>\n",
              "    </tr>\n",
              "  </thead>\n",
              "  <tbody>\n",
              "    <tr>\n",
              "      <th>0</th>\n",
              "      <td>2020-05-15 01:12:50.543</td>\n",
              "      <td>93ff79a51cd602f1dd3028ba2c129503</td>\n",
              "      <td>698</td>\n",
              "      <td>181.0</td>\n",
              "      <td>0.0</td>\n",
              "      <td>Язык SQL</td>\n",
              "      <td>Высокопроизводительные вычисления</td>\n",
              "      <td>Матричные вычисления</td>\n",
              "      <td>Дискретная оптимизация</td>\n",
              "      <td>Численные методы</td>\n",
              "      <td>Машинное обучение 2</td>\n",
              "      <td>Да</td>\n",
              "      <td>0.183857</td>\n",
              "      <td>0.0</td>\n",
              "      <td></td>\n",
              "      <td>0.0</td>\n",
              "    </tr>\n",
              "    <tr>\n",
              "      <th>1</th>\n",
              "      <td>2020-05-15 02:46:48.066</td>\n",
              "      <td>26b01b1c4cd5656bab18d24c548834fb</td>\n",
              "      <td>647</td>\n",
              "      <td>181.0</td>\n",
              "      <td>0.0</td>\n",
              "      <td>Высокопроизводительные вычисления</td>\n",
              "      <td>Безопасность компьютерных систем</td>\n",
              "      <td>Язык SQL</td>\n",
              "      <td>Дискретная оптимизация</td>\n",
              "      <td>Численные методы</td>\n",
              "      <td>Машинное обучение 2</td>\n",
              "      <td>Нет</td>\n",
              "      <td>0.426009</td>\n",
              "      <td>0.0</td>\n",
              "      <td></td>\n",
              "      <td>0.0</td>\n",
              "    </tr>\n",
              "    <tr>\n",
              "      <th>2</th>\n",
              "      <td>2020-05-15 03:12:41.480</td>\n",
              "      <td>30f3653fc176d54e89ac3179c455c6dd</td>\n",
              "      <td>624</td>\n",
              "      <td>185.0</td>\n",
              "      <td>0.0</td>\n",
              "      <td>Безопасность компьютерных систем</td>\n",
              "      <td>Матричные вычисления</td>\n",
              "      <td>Моделирование временных рядов</td>\n",
              "      <td>Дискретная оптимизация</td>\n",
              "      <td>Машинное обучение 2</td>\n",
              "      <td>Численные методы</td>\n",
              "      <td>Да</td>\n",
              "      <td>0.538117</td>\n",
              "      <td>0.0</td>\n",
              "      <td></td>\n",
              "      <td>0.0</td>\n",
              "    </tr>\n",
              "    <tr>\n",
              "      <th>3</th>\n",
              "      <td>2020-05-15 04:43:08.994</td>\n",
              "      <td>1528f0eaa027580820ccf0d92a53ad68</td>\n",
              "      <td>579</td>\n",
              "      <td>182.0</td>\n",
              "      <td>0.0</td>\n",
              "      <td>Statistical Learning Theory</td>\n",
              "      <td>Высокопроизводительные вычисления</td>\n",
              "      <td>Матричные вычисления</td>\n",
              "      <td>Дискретная оптимизация</td>\n",
              "      <td>Численные методы</td>\n",
              "      <td>Машинное обучение 2</td>\n",
              "      <td>Да</td>\n",
              "      <td>0.744395</td>\n",
              "      <td>0.0</td>\n",
              "      <td></td>\n",
              "      <td>0.0</td>\n",
              "    </tr>\n",
              "    <tr>\n",
              "      <th>4</th>\n",
              "      <td>2020-05-15 07:47:17.197</td>\n",
              "      <td>496ea4f0d4abe264b1bb1b80eb3830c5</td>\n",
              "      <td>572</td>\n",
              "      <td>183.0</td>\n",
              "      <td>0.0</td>\n",
              "      <td>Высокопроизводительные вычисления</td>\n",
              "      <td>Безопасность компьютерных систем</td>\n",
              "      <td>Теория баз данных</td>\n",
              "      <td>Компьютерные сети</td>\n",
              "      <td>Дискретная оптимизация</td>\n",
              "      <td>Численные методы</td>\n",
              "      <td>Да</td>\n",
              "      <td>0.780269</td>\n",
              "      <td>0.0</td>\n",
              "      <td></td>\n",
              "      <td>0.0</td>\n",
              "    </tr>\n",
              "  </tbody>\n",
              "</table>\n",
              "</div>"
            ],
            "text/plain": [
              "                timestamp                                id  rating  18_group  \\\n",
              "0 2020-05-15 01:12:50.543  93ff79a51cd602f1dd3028ba2c129503     698     181.0   \n",
              "1 2020-05-15 02:46:48.066  26b01b1c4cd5656bab18d24c548834fb     647     181.0   \n",
              "2 2020-05-15 03:12:41.480  30f3653fc176d54e89ac3179c455c6dd     624     185.0   \n",
              "3 2020-05-15 04:43:08.994  1528f0eaa027580820ccf0d92a53ad68     579     182.0   \n",
              "4 2020-05-15 07:47:17.197  496ea4f0d4abe264b1bb1b80eb3830c5     572     183.0   \n",
              "\n",
              "   is_mi                             fall_1  \\\n",
              "0    0.0                           Язык SQL   \n",
              "1    0.0  Высокопроизводительные вычисления   \n",
              "2    0.0   Безопасность компьютерных систем   \n",
              "3    0.0        Statistical Learning Theory   \n",
              "4    0.0  Высокопроизводительные вычисления   \n",
              "\n",
              "                              fall_2                         fall_3  \\\n",
              "0  Высокопроизводительные вычисления           Матричные вычисления   \n",
              "1   Безопасность компьютерных систем                       Язык SQL   \n",
              "2               Матричные вычисления  Моделирование временных рядов   \n",
              "3  Высокопроизводительные вычисления           Матричные вычисления   \n",
              "4   Безопасность компьютерных систем              Теория баз данных   \n",
              "\n",
              "                 spring_1                spring_2             spring_3  \\\n",
              "0  Дискретная оптимизация        Численные методы  Машинное обучение 2   \n",
              "1  Дискретная оптимизация        Численные методы  Машинное обучение 2   \n",
              "2  Дискретная оптимизация     Машинное обучение 2     Численные методы   \n",
              "3  Дискретная оптимизация        Численные методы  Машинное обучение 2   \n",
              "4       Компьютерные сети  Дискретная оптимизация     Численные методы   \n",
              "\n",
              "  is_first_time  percentile  17_group blended  is_ml_student  \n",
              "0            Да    0.183857       0.0                    0.0  \n",
              "1           Нет    0.426009       0.0                    0.0  \n",
              "2            Да    0.538117       0.0                    0.0  \n",
              "3            Да    0.744395       0.0                    0.0  \n",
              "4            Да    0.780269       0.0                    0.0  "
            ]
          },
          "execution_count": 52,
          "metadata": {},
          "output_type": "execute_result"
        }
      ],
      "source": [
        "s = pd.Series(data=[0, 0, '', 0, '', 0], index=['18_group', 'is_mi', 'is_first_time', '17_group', 'blended', 'is_ml_student'])\n",
        "df_1 = df.fillna(s)\n",
        "df_1.head()"
      ]
    },
    {
      "cell_type": "code",
      "execution_count": null,
      "metadata": {
        "scrolled": true,
        "id": "lghGq_QlBD35",
        "outputId": "745151b1-0e42-4aa7-da1c-d26ae73f1ef1"
      },
      "outputs": [
        {
          "data": {
            "text/html": [
              "<div>\n",
              "<style scoped>\n",
              "    .dataframe tbody tr th:only-of-type {\n",
              "        vertical-align: middle;\n",
              "    }\n",
              "\n",
              "    .dataframe tbody tr th {\n",
              "        vertical-align: top;\n",
              "    }\n",
              "\n",
              "    .dataframe thead th {\n",
              "        text-align: right;\n",
              "    }\n",
              "</style>\n",
              "<table border=\"1\" class=\"dataframe\">\n",
              "  <thead>\n",
              "    <tr style=\"text-align: right;\">\n",
              "      <th></th>\n",
              "      <th>timestamp</th>\n",
              "      <th>id</th>\n",
              "      <th>rating</th>\n",
              "      <th>18_group</th>\n",
              "      <th>is_mi</th>\n",
              "      <th>fall_1</th>\n",
              "      <th>fall_2</th>\n",
              "      <th>fall_3</th>\n",
              "      <th>spring_1</th>\n",
              "      <th>spring_2</th>\n",
              "      <th>spring_3</th>\n",
              "      <th>is_first_time</th>\n",
              "      <th>percentile</th>\n",
              "      <th>17_group</th>\n",
              "      <th>blended</th>\n",
              "      <th>is_ml_student</th>\n",
              "    </tr>\n",
              "  </thead>\n",
              "  <tbody>\n",
              "    <tr>\n",
              "      <th>0</th>\n",
              "      <td>2020-05-15 01:12:50.543</td>\n",
              "      <td>93ff79a51cd602f1dd3028ba2c129503</td>\n",
              "      <td>698</td>\n",
              "      <td>181.0</td>\n",
              "      <td>0.0</td>\n",
              "      <td>Язык SQL</td>\n",
              "      <td>Высокопроизводительные вычисления</td>\n",
              "      <td>Матричные вычисления</td>\n",
              "      <td>Дискретная оптимизация</td>\n",
              "      <td>Численные методы</td>\n",
              "      <td>Машинное обучение 2</td>\n",
              "      <td>Да</td>\n",
              "      <td>0.183857</td>\n",
              "      <td>0.0</td>\n",
              "      <td></td>\n",
              "      <td>0.0</td>\n",
              "    </tr>\n",
              "    <tr>\n",
              "      <th>1</th>\n",
              "      <td>2020-05-15 02:46:48.066</td>\n",
              "      <td>26b01b1c4cd5656bab18d24c548834fb</td>\n",
              "      <td>647</td>\n",
              "      <td>181.0</td>\n",
              "      <td>0.0</td>\n",
              "      <td>Высокопроизводительные вычисления</td>\n",
              "      <td>Безопасность компьютерных систем</td>\n",
              "      <td>Язык SQL</td>\n",
              "      <td>Дискретная оптимизация</td>\n",
              "      <td>Численные методы</td>\n",
              "      <td>Машинное обучение 2</td>\n",
              "      <td>Нет</td>\n",
              "      <td>0.426009</td>\n",
              "      <td>0.0</td>\n",
              "      <td></td>\n",
              "      <td>0.0</td>\n",
              "    </tr>\n",
              "    <tr>\n",
              "      <th>2</th>\n",
              "      <td>2020-05-15 03:12:41.480</td>\n",
              "      <td>30f3653fc176d54e89ac3179c455c6dd</td>\n",
              "      <td>624</td>\n",
              "      <td>185.0</td>\n",
              "      <td>0.0</td>\n",
              "      <td>Безопасность компьютерных систем</td>\n",
              "      <td>Матричные вычисления</td>\n",
              "      <td>Моделирование временных рядов</td>\n",
              "      <td>Дискретная оптимизация</td>\n",
              "      <td>Машинное обучение 2</td>\n",
              "      <td>Численные методы</td>\n",
              "      <td>Да</td>\n",
              "      <td>0.538117</td>\n",
              "      <td>0.0</td>\n",
              "      <td></td>\n",
              "      <td>0.0</td>\n",
              "    </tr>\n",
              "    <tr>\n",
              "      <th>3</th>\n",
              "      <td>2020-05-15 04:43:08.994</td>\n",
              "      <td>1528f0eaa027580820ccf0d92a53ad68</td>\n",
              "      <td>579</td>\n",
              "      <td>182.0</td>\n",
              "      <td>0.0</td>\n",
              "      <td>Statistical Learning Theory</td>\n",
              "      <td>Высокопроизводительные вычисления</td>\n",
              "      <td>Матричные вычисления</td>\n",
              "      <td>Дискретная оптимизация</td>\n",
              "      <td>Численные методы</td>\n",
              "      <td>Машинное обучение 2</td>\n",
              "      <td>Да</td>\n",
              "      <td>0.744395</td>\n",
              "      <td>0.0</td>\n",
              "      <td></td>\n",
              "      <td>0.0</td>\n",
              "    </tr>\n",
              "    <tr>\n",
              "      <th>4</th>\n",
              "      <td>2020-05-15 07:47:17.197</td>\n",
              "      <td>496ea4f0d4abe264b1bb1b80eb3830c5</td>\n",
              "      <td>572</td>\n",
              "      <td>183.0</td>\n",
              "      <td>0.0</td>\n",
              "      <td>Высокопроизводительные вычисления</td>\n",
              "      <td>Безопасность компьютерных систем</td>\n",
              "      <td>Теория баз данных</td>\n",
              "      <td>Компьютерные сети</td>\n",
              "      <td>Дискретная оптимизация</td>\n",
              "      <td>Численные методы</td>\n",
              "      <td>Да</td>\n",
              "      <td>0.780269</td>\n",
              "      <td>0.0</td>\n",
              "      <td></td>\n",
              "      <td>0.0</td>\n",
              "    </tr>\n",
              "  </tbody>\n",
              "</table>\n",
              "</div>"
            ],
            "text/plain": [
              "                timestamp                                id  rating  18_group  \\\n",
              "0 2020-05-15 01:12:50.543  93ff79a51cd602f1dd3028ba2c129503     698     181.0   \n",
              "1 2020-05-15 02:46:48.066  26b01b1c4cd5656bab18d24c548834fb     647     181.0   \n",
              "2 2020-05-15 03:12:41.480  30f3653fc176d54e89ac3179c455c6dd     624     185.0   \n",
              "3 2020-05-15 04:43:08.994  1528f0eaa027580820ccf0d92a53ad68     579     182.0   \n",
              "4 2020-05-15 07:47:17.197  496ea4f0d4abe264b1bb1b80eb3830c5     572     183.0   \n",
              "\n",
              "   is_mi                             fall_1  \\\n",
              "0    0.0                           Язык SQL   \n",
              "1    0.0  Высокопроизводительные вычисления   \n",
              "2    0.0   Безопасность компьютерных систем   \n",
              "3    0.0        Statistical Learning Theory   \n",
              "4    0.0  Высокопроизводительные вычисления   \n",
              "\n",
              "                              fall_2                         fall_3  \\\n",
              "0  Высокопроизводительные вычисления           Матричные вычисления   \n",
              "1   Безопасность компьютерных систем                       Язык SQL   \n",
              "2               Матричные вычисления  Моделирование временных рядов   \n",
              "3  Высокопроизводительные вычисления           Матричные вычисления   \n",
              "4   Безопасность компьютерных систем              Теория баз данных   \n",
              "\n",
              "                 spring_1                spring_2             spring_3  \\\n",
              "0  Дискретная оптимизация        Численные методы  Машинное обучение 2   \n",
              "1  Дискретная оптимизация        Численные методы  Машинное обучение 2   \n",
              "2  Дискретная оптимизация     Машинное обучение 2     Численные методы   \n",
              "3  Дискретная оптимизация        Численные методы  Машинное обучение 2   \n",
              "4       Компьютерные сети  Дискретная оптимизация     Численные методы   \n",
              "\n",
              "  is_first_time  percentile  17_group blended  is_ml_student  \n",
              "0            Да    0.183857       0.0                    0.0  \n",
              "1           Нет    0.426009       0.0                    0.0  \n",
              "2            Да    0.538117       0.0                    0.0  \n",
              "3            Да    0.744395       0.0                    0.0  \n",
              "4            Да    0.780269       0.0                    0.0  "
            ]
          },
          "execution_count": 53,
          "metadata": {},
          "output_type": "execute_result"
        }
      ],
      "source": [
        "df_1 = df.fillna({\"18_group\": 0,\n",
        "                  \"is_mi\": 0,\n",
        "                  \"is_first_time\": '',\n",
        "                  \"17_group\": 0,\n",
        "                  \"blended\": '',\n",
        "                  \"is_ml_student\": 0})\n",
        "df_1.head()"
      ]
    },
    {
      "cell_type": "code",
      "execution_count": null,
      "metadata": {
        "scrolled": false,
        "id": "rgZb_bV4BD36",
        "outputId": "49e716c2-b34f-40f3-a4d8-f0a9744c9d8f"
      },
      "outputs": [
        {
          "data": {
            "text/plain": [
              "timestamp        0\n",
              "id               0\n",
              "rating           0\n",
              "18_group         0\n",
              "is_mi            0\n",
              "fall_1           0\n",
              "fall_2           0\n",
              "fall_3           0\n",
              "spring_1         0\n",
              "spring_2         0\n",
              "spring_3         0\n",
              "is_first_time    0\n",
              "percentile       0\n",
              "17_group         0\n",
              "blended          0\n",
              "is_ml_student    0\n",
              "dtype: int64"
            ]
          },
          "execution_count": 54,
          "metadata": {},
          "output_type": "execute_result"
        }
      ],
      "source": [
        "df_1.isna().sum()"
      ]
    },
    {
      "cell_type": "code",
      "execution_count": null,
      "metadata": {
        "id": "DLWnTe8GBD37",
        "outputId": "715cde63-7eb4-433b-bf8a-5f606d451c9d"
      },
      "outputs": [
        {
          "data": {
            "text/html": [
              "<div>\n",
              "<style scoped>\n",
              "    .dataframe tbody tr th:only-of-type {\n",
              "        vertical-align: middle;\n",
              "    }\n",
              "\n",
              "    .dataframe tbody tr th {\n",
              "        vertical-align: top;\n",
              "    }\n",
              "\n",
              "    .dataframe thead th {\n",
              "        text-align: right;\n",
              "    }\n",
              "</style>\n",
              "<table border=\"1\" class=\"dataframe\">\n",
              "  <thead>\n",
              "    <tr style=\"text-align: right;\">\n",
              "      <th></th>\n",
              "      <th>timestamp</th>\n",
              "      <th>id</th>\n",
              "      <th>rating</th>\n",
              "      <th>18_group</th>\n",
              "      <th>is_mi</th>\n",
              "      <th>fall_1</th>\n",
              "      <th>fall_2</th>\n",
              "      <th>fall_3</th>\n",
              "      <th>spring_1</th>\n",
              "      <th>spring_2</th>\n",
              "      <th>spring_3</th>\n",
              "      <th>is_first_time</th>\n",
              "      <th>percentile</th>\n",
              "      <th>17_group</th>\n",
              "      <th>blended</th>\n",
              "      <th>is_ml_student</th>\n",
              "    </tr>\n",
              "  </thead>\n",
              "  <tbody>\n",
              "    <tr>\n",
              "      <th>0</th>\n",
              "      <td>2020-05-15 01:12:50.543</td>\n",
              "      <td>93ff79a51cd602f1dd3028ba2c129503</td>\n",
              "      <td>698</td>\n",
              "      <td>181.0</td>\n",
              "      <td>0.0</td>\n",
              "      <td>Язык SQL</td>\n",
              "      <td>Высокопроизводительные вычисления</td>\n",
              "      <td>Матричные вычисления</td>\n",
              "      <td>Дискретная оптимизация</td>\n",
              "      <td>Численные методы</td>\n",
              "      <td>Машинное обучение 2</td>\n",
              "      <td>Да</td>\n",
              "      <td>0.183857</td>\n",
              "      <td>0.0</td>\n",
              "      <td></td>\n",
              "      <td>0.0</td>\n",
              "    </tr>\n",
              "    <tr>\n",
              "      <th>1</th>\n",
              "      <td>2020-05-15 02:46:48.066</td>\n",
              "      <td>26b01b1c4cd5656bab18d24c548834fb</td>\n",
              "      <td>647</td>\n",
              "      <td>181.0</td>\n",
              "      <td>0.0</td>\n",
              "      <td>Высокопроизводительные вычисления</td>\n",
              "      <td>Безопасность компьютерных систем</td>\n",
              "      <td>Язык SQL</td>\n",
              "      <td>Дискретная оптимизация</td>\n",
              "      <td>Численные методы</td>\n",
              "      <td>Машинное обучение 2</td>\n",
              "      <td>Нет</td>\n",
              "      <td>0.426009</td>\n",
              "      <td>0.0</td>\n",
              "      <td></td>\n",
              "      <td>0.0</td>\n",
              "    </tr>\n",
              "    <tr>\n",
              "      <th>2</th>\n",
              "      <td>2020-05-15 03:12:41.480</td>\n",
              "      <td>30f3653fc176d54e89ac3179c455c6dd</td>\n",
              "      <td>624</td>\n",
              "      <td>185.0</td>\n",
              "      <td>0.0</td>\n",
              "      <td>Безопасность компьютерных систем</td>\n",
              "      <td>Матричные вычисления</td>\n",
              "      <td>Моделирование временных рядов</td>\n",
              "      <td>Дискретная оптимизация</td>\n",
              "      <td>Машинное обучение 2</td>\n",
              "      <td>Численные методы</td>\n",
              "      <td>Да</td>\n",
              "      <td>0.538117</td>\n",
              "      <td>0.0</td>\n",
              "      <td></td>\n",
              "      <td>0.0</td>\n",
              "    </tr>\n",
              "    <tr>\n",
              "      <th>3</th>\n",
              "      <td>2020-05-15 04:43:08.994</td>\n",
              "      <td>1528f0eaa027580820ccf0d92a53ad68</td>\n",
              "      <td>579</td>\n",
              "      <td>182.0</td>\n",
              "      <td>0.0</td>\n",
              "      <td>Statistical Learning Theory</td>\n",
              "      <td>Высокопроизводительные вычисления</td>\n",
              "      <td>Матричные вычисления</td>\n",
              "      <td>Дискретная оптимизация</td>\n",
              "      <td>Численные методы</td>\n",
              "      <td>Машинное обучение 2</td>\n",
              "      <td>Да</td>\n",
              "      <td>0.744395</td>\n",
              "      <td>0.0</td>\n",
              "      <td></td>\n",
              "      <td>0.0</td>\n",
              "    </tr>\n",
              "    <tr>\n",
              "      <th>4</th>\n",
              "      <td>2020-05-15 07:47:17.197</td>\n",
              "      <td>496ea4f0d4abe264b1bb1b80eb3830c5</td>\n",
              "      <td>572</td>\n",
              "      <td>183.0</td>\n",
              "      <td>0.0</td>\n",
              "      <td>Высокопроизводительные вычисления</td>\n",
              "      <td>Безопасность компьютерных систем</td>\n",
              "      <td>Теория баз данных</td>\n",
              "      <td>Компьютерные сети</td>\n",
              "      <td>Дискретная оптимизация</td>\n",
              "      <td>Численные методы</td>\n",
              "      <td>Да</td>\n",
              "      <td>0.780269</td>\n",
              "      <td>0.0</td>\n",
              "      <td></td>\n",
              "      <td>0.0</td>\n",
              "    </tr>\n",
              "  </tbody>\n",
              "</table>\n",
              "</div>"
            ],
            "text/plain": [
              "                timestamp                                id  rating  18_group  \\\n",
              "0 2020-05-15 01:12:50.543  93ff79a51cd602f1dd3028ba2c129503     698     181.0   \n",
              "1 2020-05-15 02:46:48.066  26b01b1c4cd5656bab18d24c548834fb     647     181.0   \n",
              "2 2020-05-15 03:12:41.480  30f3653fc176d54e89ac3179c455c6dd     624     185.0   \n",
              "3 2020-05-15 04:43:08.994  1528f0eaa027580820ccf0d92a53ad68     579     182.0   \n",
              "4 2020-05-15 07:47:17.197  496ea4f0d4abe264b1bb1b80eb3830c5     572     183.0   \n",
              "\n",
              "   is_mi                             fall_1  \\\n",
              "0    0.0                           Язык SQL   \n",
              "1    0.0  Высокопроизводительные вычисления   \n",
              "2    0.0   Безопасность компьютерных систем   \n",
              "3    0.0        Statistical Learning Theory   \n",
              "4    0.0  Высокопроизводительные вычисления   \n",
              "\n",
              "                              fall_2                         fall_3  \\\n",
              "0  Высокопроизводительные вычисления           Матричные вычисления   \n",
              "1   Безопасность компьютерных систем                       Язык SQL   \n",
              "2               Матричные вычисления  Моделирование временных рядов   \n",
              "3  Высокопроизводительные вычисления           Матричные вычисления   \n",
              "4   Безопасность компьютерных систем              Теория баз данных   \n",
              "\n",
              "                 spring_1                spring_2             spring_3  \\\n",
              "0  Дискретная оптимизация        Численные методы  Машинное обучение 2   \n",
              "1  Дискретная оптимизация        Численные методы  Машинное обучение 2   \n",
              "2  Дискретная оптимизация     Машинное обучение 2     Численные методы   \n",
              "3  Дискретная оптимизация        Численные методы  Машинное обучение 2   \n",
              "4       Компьютерные сети  Дискретная оптимизация     Численные методы   \n",
              "\n",
              "  is_first_time  percentile  17_group blended  is_ml_student  \n",
              "0            Да    0.183857       0.0                    0.0  \n",
              "1           Нет    0.426009       0.0                    0.0  \n",
              "2            Да    0.538117       0.0                    0.0  \n",
              "3            Да    0.744395       0.0                    0.0  \n",
              "4            Да    0.780269       0.0                    0.0  "
            ]
          },
          "execution_count": 92,
          "metadata": {},
          "output_type": "execute_result"
        }
      ],
      "source": [
        "# Проверить такую замену\n",
        "df_01 = df.select_dtypes(include = ['datetime64[ns]', 'float64', 'int64']).fillna(0)\n",
        "df_02 = df.select_dtypes(include = 'object').fillna('')\n",
        "df_new = df_01.join(df_02)\n",
        "df_new = df_new.reindex(columns=['timestamp', 'id', 'rating', '18_group', 'is_mi', 'fall_1', 'fall_2', 'fall_3', 'spring_1', 'spring_2', 'spring_3', 'is_first_time', 'percentile', '17_group', 'blended', 'is_ml_student'])\n",
        "df_new.head()"
      ]
    },
    {
      "cell_type": "markdown",
      "metadata": {
        "id": "ooG5NUaEBD39"
      },
      "source": [
        "### УБИРАЕМ ПОВТОРЯЮЩИЕСЯ ID И ОСТАВЛЯЕМ ПОСЛЕДНИЙ РЕЗУЛЬТАТ"
      ]
    },
    {
      "cell_type": "code",
      "execution_count": null,
      "metadata": {
        "scrolled": true,
        "id": "Yd9fAv63BD39",
        "outputId": "b6362945-6993-4409-cbb8-ff268c5275e9"
      },
      "outputs": [
        {
          "data": {
            "text/plain": [
              "361"
            ]
          },
          "execution_count": 42,
          "metadata": {},
          "output_type": "execute_result"
        }
      ],
      "source": [
        "len(df_1)"
      ]
    },
    {
      "cell_type": "code",
      "execution_count": null,
      "metadata": {
        "scrolled": true,
        "id": "qvzz_S4pBD3-",
        "outputId": "0a836b34-8b78-4241-d827-2ead762ed94c"
      },
      "outputs": [
        {
          "data": {
            "text/plain": [
              "347"
            ]
          },
          "execution_count": 43,
          "metadata": {},
          "output_type": "execute_result"
        }
      ],
      "source": [
        "len(df_1['id'].unique())"
      ]
    },
    {
      "cell_type": "code",
      "execution_count": null,
      "metadata": {
        "id": "pcEims7nBD3_"
      },
      "outputs": [],
      "source": [
        "df_1.sort_values('timestamp', ascending = True, inplace=True)\n",
        "df_2 = df_1.drop_duplicates(subset = ['id', 'rating'], keep = 'last')"
      ]
    },
    {
      "cell_type": "code",
      "execution_count": null,
      "metadata": {
        "id": "ggG1jPP5BD4A",
        "outputId": "a1366373-710d-4252-e98d-80f1be93dd9a"
      },
      "outputs": [
        {
          "data": {
            "text/plain": [
              "347"
            ]
          },
          "execution_count": 45,
          "metadata": {},
          "output_type": "execute_result"
        }
      ],
      "source": [
        "# Проверка отсутвия дубликатов в столбце 'id'\n",
        "df_2['id'].nunique()"
      ]
    },
    {
      "cell_type": "markdown",
      "metadata": {
        "id": "piod_c5HBD4A"
      },
      "source": [
        "### НАЛИЧИЕ ОТВЕТОВ \"НЕТ\" В \"is_first_time\""
      ]
    },
    {
      "cell_type": "code",
      "execution_count": null,
      "metadata": {
        "id": "BwORbIPYBD4B",
        "outputId": "3fc4ae0c-a82d-4ab0-a330-63dc1532c598"
      },
      "outputs": [
        {
          "name": "stdout",
          "output_type": "stream",
          "text": [
            "Количество строк с ответом \"Нет\": 51\n"
          ]
        }
      ],
      "source": [
        "df_fil = df_2['is_first_time'].isin(['Нет'])\n",
        "print('Количество строк с ответом \"Нет\":', df_2[df_fil].shape[0])"
      ]
    },
    {
      "cell_type": "markdown",
      "metadata": {
        "id": "oXZ3Tc4lBD4C"
      },
      "source": [
        "#### Сколько было заявок из групп 18-го года набора, а сколько из групп 17-го года?"
      ]
    },
    {
      "cell_type": "code",
      "execution_count": null,
      "metadata": {
        "id": "vN0LLcCJBD4D",
        "outputId": "94566c72-7ba9-4439-bc38-a9a243734a60"
      },
      "outputs": [
        {
          "name": "stdout",
          "output_type": "stream",
          "text": [
            "213 заявок из групп набора 17-го года\n",
            "134 заявок из групп набора 18-го года\n"
          ]
        }
      ],
      "source": [
        "print(len(df_2[df_2['17_group'].isin([0])]), 'заявок из групп набора 17-го года')\n",
        "print(len(df_2[df_2['18_group'].isin([0])]), 'заявок из групп набора 18-го года')"
      ]
    },
    {
      "cell_type": "code",
      "execution_count": null,
      "metadata": {
        "scrolled": false,
        "id": "psGClUHEBD4E",
        "outputId": "6aab92c0-5094-4e6e-d127-50c0552ecc88"
      },
      "outputs": [
        {
          "data": {
            "text/plain": [
              "0.0      134\n",
              "183.0     31\n",
              "187.0     30\n",
              "185.0     28\n",
              "186.0     27\n",
              "181.0     27\n",
              "182.0     26\n",
              "188.0     23\n",
              "184.0     21\n",
              "Name: 18_group, dtype: int64"
            ]
          },
          "execution_count": 78,
          "metadata": {},
          "output_type": "execute_result"
        }
      ],
      "source": [
        "df_2['18_group'].value_counts()"
      ]
    },
    {
      "cell_type": "code",
      "execution_count": null,
      "metadata": {
        "id": "vklr67sPBD4E",
        "outputId": "e47515ae-4e56-417b-d1f6-afffd8388a1c"
      },
      "outputs": [
        {
          "data": {
            "text/plain": [
              "0.0      213\n",
              "172.0     28\n",
              "175.0     26\n",
              "171.0     26\n",
              "173.0     19\n",
              "176.0     17\n",
              "174.0     15\n",
              "177.0      3\n",
              "Name: 17_group, dtype: int64"
            ]
          },
          "execution_count": 74,
          "metadata": {},
          "output_type": "execute_result"
        }
      ],
      "source": [
        "df_2['17_group'].value_counts()"
      ]
    },
    {
      "cell_type": "markdown",
      "metadata": {
        "id": "xrSA_WPyBD4F"
      },
      "source": [
        "#### Есть ли студенты с равными перцентилями (среди объединенных данных, ведь конкурс на каждый курс общий)?"
      ]
    },
    {
      "cell_type": "code",
      "execution_count": null,
      "metadata": {
        "id": "NPvZWqquBD4F",
        "outputId": "d3a90cb9-6547-4580-8c02-4af15b59f905"
      },
      "outputs": [
        {
          "name": "stdout",
          "output_type": "stream",
          "text": [
            "Есть 2 студента с одинаковыми перцентилями\n"
          ]
        }
      ],
      "source": [
        "print ('Есть', (len(df_2) - df_2['percentile'].nunique()) * 2, 'студента с одинаковыми перцентилями')"
      ]
    },
    {
      "cell_type": "markdown",
      "metadata": {
        "id": "tu-6g82TBD4G"
      },
      "source": [
        "## ПУНКТ 5\n",
        "#### Какие blended-курсы для четверокурсников существуют?"
      ]
    },
    {
      "cell_type": "code",
      "execution_count": null,
      "metadata": {
        "scrolled": true,
        "id": "F8_uL19fBD4G",
        "outputId": "fdf876d1-b36f-4e99-a451-9929ceecfb2c"
      },
      "outputs": [
        {
          "data": {
            "text/html": [
              "<div>\n",
              "<style scoped>\n",
              "    .dataframe tbody tr th:only-of-type {\n",
              "        vertical-align: middle;\n",
              "    }\n",
              "\n",
              "    .dataframe tbody tr th {\n",
              "        vertical-align: top;\n",
              "    }\n",
              "\n",
              "    .dataframe thead th {\n",
              "        text-align: right;\n",
              "    }\n",
              "</style>\n",
              "<table border=\"1\" class=\"dataframe\">\n",
              "  <thead>\n",
              "    <tr style=\"text-align: right;\">\n",
              "      <th></th>\n",
              "      <th>rating</th>\n",
              "      <th>18_group</th>\n",
              "      <th>is_mi</th>\n",
              "      <th>percentile</th>\n",
              "      <th>17_group</th>\n",
              "      <th>is_ml_student</th>\n",
              "    </tr>\n",
              "    <tr>\n",
              "      <th>blended</th>\n",
              "      <th></th>\n",
              "      <th></th>\n",
              "      <th></th>\n",
              "      <th></th>\n",
              "      <th></th>\n",
              "      <th></th>\n",
              "    </tr>\n",
              "  </thead>\n",
              "  <tbody>\n",
              "    <tr>\n",
              "      <th></th>\n",
              "      <td>135021</td>\n",
              "      <td>39292.0</td>\n",
              "      <td>16.0</td>\n",
              "      <td>105.139013</td>\n",
              "      <td>0.0</td>\n",
              "      <td>56.0</td>\n",
              "    </tr>\n",
              "    <tr>\n",
              "      <th>DevOps</th>\n",
              "      <td>100413</td>\n",
              "      <td>0.0</td>\n",
              "      <td>0.0</td>\n",
              "      <td>43.717391</td>\n",
              "      <td>15105.0</td>\n",
              "      <td>0.0</td>\n",
              "    </tr>\n",
              "    <tr>\n",
              "      <th>Введение в дифференциальную геометрию</th>\n",
              "      <td>18161</td>\n",
              "      <td>0.0</td>\n",
              "      <td>0.0</td>\n",
              "      <td>5.159420</td>\n",
              "      <td>2609.0</td>\n",
              "      <td>0.0</td>\n",
              "    </tr>\n",
              "    <tr>\n",
              "      <th>Соревновательный анализ данных</th>\n",
              "      <td>36615</td>\n",
              "      <td>0.0</td>\n",
              "      <td>0.0</td>\n",
              "      <td>17.210145</td>\n",
              "      <td>5518.0</td>\n",
              "      <td>0.0</td>\n",
              "    </tr>\n",
              "  </tbody>\n",
              "</table>\n",
              "</div>"
            ],
            "text/plain": [
              "                                       rating  18_group  is_mi  percentile  \\\n",
              "blended                                                                      \n",
              "                                       135021   39292.0   16.0  105.139013   \n",
              "DevOps                                 100413       0.0    0.0   43.717391   \n",
              "Введение в дифференциальную геометрию   18161       0.0    0.0    5.159420   \n",
              "Соревновательный анализ данных          36615       0.0    0.0   17.210145   \n",
              "\n",
              "                                       17_group  is_ml_student  \n",
              "blended                                                         \n",
              "                                            0.0           56.0  \n",
              "DevOps                                  15105.0            0.0  \n",
              "Введение в дифференциальную геометрию    2609.0            0.0  \n",
              "Соревновательный анализ данных           5518.0            0.0  "
            ]
          },
          "execution_count": 113,
          "metadata": {},
          "output_type": "execute_result"
        }
      ],
      "source": [
        "df_2.groupby(by='blended').sum()"
      ]
    },
    {
      "cell_type": "code",
      "execution_count": 1,
      "metadata": {
        "id": "Uk6VkdZeBD4H",
        "outputId": "e5d58823-fc69-475b-c8a8-5ef01af86aeb",
        "colab": {
          "base_uri": "https://localhost:8080/",
          "height": 208
        }
      },
      "outputs": [
        {
          "output_type": "error",
          "ename": "NameError",
          "evalue": "ignored",
          "traceback": [
            "\u001b[0;31m---------------------------------------------------------------------------\u001b[0m",
            "\u001b[0;31mNameError\u001b[0m                                 Traceback (most recent call last)",
            "\u001b[0;32m<ipython-input-1-6be6cfa280fd>\u001b[0m in \u001b[0;36m<module>\u001b[0;34m\u001b[0m\n\u001b[0;32m----> 1\u001b[0;31m \u001b[0mb\u001b[0m \u001b[0;34m=\u001b[0m \u001b[0mlist\u001b[0m\u001b[0;34m(\u001b[0m\u001b[0mset\u001b[0m\u001b[0;34m(\u001b[0m\u001b[0mdf_2\u001b[0m\u001b[0;34m[\u001b[0m\u001b[0;34m'blended'\u001b[0m\u001b[0;34m]\u001b[0m\u001b[0;34m)\u001b[0m\u001b[0;34m)\u001b[0m\u001b[0;34m\u001b[0m\u001b[0;34m\u001b[0m\u001b[0m\n\u001b[0m\u001b[1;32m      2\u001b[0m \u001b[0mb\u001b[0m\u001b[0;34m.\u001b[0m\u001b[0mremove\u001b[0m\u001b[0;34m(\u001b[0m\u001b[0;34m''\u001b[0m\u001b[0;34m)\u001b[0m\u001b[0;34m\u001b[0m\u001b[0;34m\u001b[0m\u001b[0m\n\u001b[1;32m      3\u001b[0m \u001b[0mprint\u001b[0m\u001b[0;34m(\u001b[0m\u001b[0;34m'Существуют следующие blended курсы для четверокурсников:'\u001b[0m\u001b[0;34m,\u001b[0m \u001b[0mb\u001b[0m\u001b[0;34m)\u001b[0m\u001b[0;34m\u001b[0m\u001b[0;34m\u001b[0m\u001b[0m\n",
            "\u001b[0;31mNameError\u001b[0m: name 'df_2' is not defined"
          ]
        }
      ],
      "source": [
        "b = list(set(df_2['blended']))\n",
        "b.remove('')\n",
        "print('Существуют следующие blended курсы для четверокурсников:', b)"
      ]
    },
    {
      "cell_type": "markdown",
      "metadata": {
        "id": "DpgpaOHDBD4I"
      },
      "source": [
        "#### На какой blended-курс записалось наибольшее количество студентов? "
      ]
    },
    {
      "cell_type": "code",
      "execution_count": null,
      "metadata": {
        "id": "3vE23flDBD4I",
        "outputId": "09df3b29-b864-41dc-f3a5-f65afb961d4d"
      },
      "outputs": [
        {
          "data": {
            "text/plain": [
              "223                            DevOps\n",
              "224                            DevOps\n",
              "225                            DevOps\n",
              "226                            DevOps\n",
              "227                            DevOps\n",
              "                    ...              \n",
              "220                                  \n",
              "360    Соревновательный анализ данных\n",
              "359                            DevOps\n",
              "221                                  \n",
              "222                                  \n",
              "Name: blended, Length: 347, dtype: object"
            ]
          },
          "execution_count": 132,
          "metadata": {},
          "output_type": "execute_result"
        }
      ],
      "source": [
        "df_2['blended']"
      ]
    },
    {
      "cell_type": "markdown",
      "metadata": {
        "id": "fvs2h4aABD4I"
      },
      "source": [
        "#### На каком из blended-курсов собрались студенты с самым высоким средним рейтингом (выведите этот курс и количество студентов на нем)?"
      ]
    },
    {
      "cell_type": "markdown",
      "metadata": {
        "id": "uoyXjdgjBD4J"
      },
      "source": [
        "### Выясните, есть ли студенты с абсолютно одинаковыми предпочтениями по всем курсам.\n",
        "Для этого сформируйте таблицу, где для каждого возможного набора курсов посчитано количество студентов, выбравших такой набор, и оставьте только строки где это количество больше 1.\n",
        "\n",
        "В данном случае набор курсов задается упорядоченным множеством ('fall_1', 'fall_2', 'fall_3', 'spring_1', 'spring_2', 'spring_3', 'blended'). Элемент blended будет нулевым для 3-го курса."
      ]
    },
    {
      "cell_type": "markdown",
      "metadata": {
        "id": "Yo3s_tfeBD4J"
      },
      "source": [
        "### Найдите курсы по выбору, на которые записывались как студенты 18-го года набора, так и студенты 17-го года."
      ]
    },
    {
      "cell_type": "markdown",
      "metadata": {
        "id": "j-lLEtNyBD4K"
      },
      "source": [
        "Методом исключения найдите курсы, которые предлагались только студентам 18-го года и только студентам 17-го года."
      ]
    },
    {
      "cell_type": "code",
      "execution_count": null,
      "metadata": {
        "id": "JIcpHxyeBD4K"
      },
      "outputs": [],
      "source": []
    },
    {
      "cell_type": "code",
      "execution_count": null,
      "metadata": {
        "id": "EE1EKHj0BD4K"
      },
      "outputs": [],
      "source": []
    },
    {
      "cell_type": "code",
      "execution_count": null,
      "metadata": {
        "id": "PIaxFxUCBD4L"
      },
      "outputs": [],
      "source": []
    }
  ],
  "metadata": {
    "kernelspec": {
      "display_name": "Python 3",
      "language": "python",
      "name": "python3"
    },
    "language_info": {
      "codemirror_mode": {
        "name": "ipython",
        "version": 3
      },
      "file_extension": ".py",
      "mimetype": "text/x-python",
      "name": "python",
      "nbconvert_exporter": "python",
      "pygments_lexer": "ipython3",
      "version": "3.8.5"
    },
    "colab": {
      "provenance": [],
      "include_colab_link": true
    }
  },
  "nbformat": 4,
  "nbformat_minor": 0
}